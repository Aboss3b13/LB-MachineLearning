{
 "cells": [
  {
   "cell_type": "markdown",
   "id": "aa952ec5",
   "metadata": {},
   "source": [
  
    "### **4.1 Important Fields for the Model**\n",
    "\n",
    "The most useful fields in my data are the number of bedrooms, bathrooms, square footage, lot size, and the ZIP code. These tell us how big and where the house is, which strongly affects the price. The ZIP code helps the model learn about local market trends, while the number of rooms and size help it understand the value of the property.\n",
    "\n",
    "---\n",
    "\n",
    "### **4.2 Metric and Calculation**\n",
    "\n",
    "I used Mean Absolute Error (MAE) to measure how well my model works. It shows how far off my predictions are. My model guessed the price was \\$504,169.55, but the real price was \\$429,000. That means the MAE is \\$75,169.55. The smaller this number is, the better the model. So there is room for improvement.\n",
    "\n",
    "---\n",
    "\n",
    "### **4.3 Confusion Matrix, Sensitivity & Specificity**\n",
    "\n",
    "To make a confusion matrix, I treated the price prediction as correct if it's within 10% of the actual price. My model predicted too high, so it's counted as incorrect. With more predictions, I could calculate sensitivity (how often the model gets it right) and specificity (how well it avoids false positives). Right now, there's not enough data to do this well.\n",
    "\n",
    "---\n",
    "\n",
    "### **4.4 Summary**\n",
    "\n",
    "My model is okay. It predicted a house price of \\$504,169.55, but the actual price was  \\$429,000. That’s about \\$75,000 too much. Still, the prediction is in the right range. The model could improve if I added more data or used more details about the house, like the age or condition. Trying better models could also help make the results more accurate.\n",
    "\n",
    "\n"
   ]
  }
 ],
 "metadata": {
  "language_info": {
   "name": "python"
  }
 },
 "nbformat": 4,
 "nbformat_minor": 5
}
